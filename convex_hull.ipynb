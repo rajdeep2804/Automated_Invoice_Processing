{
 "cells": [
  {
   "cell_type": "code",
   "execution_count": 12,
   "id": "ce13a443",
   "metadata": {},
   "outputs": [
    {
     "data": {
      "text/plain": [
       "True"
      ]
     },
     "execution_count": 12,
     "metadata": {},
     "output_type": "execute_result"
    }
   ],
   "source": [
    "import cv2\n",
    "import numpy as np"
   ]
  },
  {
   "cell_type": "code",
   "execution_count": null,
   "id": "f41153b5",
   "metadata": {},
   "outputs": [],
   "source": [
    "def resize(image, width=None, height=None, inter=cv2.INTER_AREA):\n",
    "    # initialize the dimensions of the image to be resized and\n",
    "    # grab the image size\n",
    "    dim = None\n",
    "    (h, w) = image.shape[:2]\n",
    "\n",
    "    # if both the width and height are None, then return the\n",
    "    # original image\n",
    "    if width is None and height is None:\n",
    "        return image\n",
    "\n",
    "    # check to see if the width is None\n",
    "    if width is None:\n",
    "        # calculate the ratio of the height and construct the\n",
    "        # dimensions\n",
    "        r = height / float(h)\n",
    "        dim = (int(w * r), height)\n",
    "\n",
    "    # otherwise, the height is None\n",
    "    else:\n",
    "        # calculate the ratio of the width and construct the\n",
    "        # dimensions\n",
    "        r = width / float(w)\n",
    "        dim = (width, int(h * r))\n",
    "\n",
    "    # resize the image\n",
    "    resized = cv2.resize(image, dim, interpolation=inter)\n",
    "\n",
    "    # return the resized image\n",
    "    return resized"
   ]
  },
  {
   "cell_type": "code",
   "execution_count": 2,
   "id": "cd015f34",
   "metadata": {},
   "outputs": [],
   "source": [
    "# Load the image\n",
    "img1 = cv2.imread('canny_out.jpg')\n",
    "img2 =resize(img1, width=500)\n",
    "# Convert it to greyscale\n",
    "cv2.imwrite('canny_out1.jpg', img2)\n",
    "img = cv2.cvtColor(img1, cv2.COLOR_BGR2GRAY)\n",
    "cv2.imwrite('bgr.jpg', img)\n",
    "# Threshold the image\n",
    "ret, thresh = cv2.threshold(img,50,255,0)\n",
    "cv2.imwrite('thresh.jpg', thresh)\n",
    "# Find the contours\n",
    "h = img1.shape[0]\n",
    "w = img1.shape[1]\n",
    "img_mask = np.zeros([h, w, 3], np.uint8)\n",
    "cv2.imwrite('img_mask.jpg', img_mask)\n",
    "contours, hierarchy = cv2.findContours(thresh, cv2.RETR_TREE, cv2.CHAIN_APPROX_SIMPLE)\n",
    "# For each contour, find the convex hull and draw it\n",
    "# on the original image.\n",
    "for i in range(len(contours)):\n",
    "    hull = cv2.convexHull(contours[i])\n",
    "    cv2.drawContours(img_mask, [hull], -1, (255, 0, 0), 5)\n",
    "# Display the final convex hull image\n",
    "cv2.imwrite('ConvexHull.jpg',img_mask)"
   ]
  },
  {
   "cell_type": "code",
   "execution_count": null,
   "id": "28cd9adc",
   "metadata": {},
   "outputs": [],
   "source": []
  }
 ],
 "metadata": {
  "kernelspec": {
   "display_name": "Python 3 (ipykernel)",
   "language": "python",
   "name": "python3"
  },
  "language_info": {
   "codemirror_mode": {
    "name": "ipython",
    "version": 3
   },
   "file_extension": ".py",
   "mimetype": "text/x-python",
   "name": "python",
   "nbconvert_exporter": "python",
   "pygments_lexer": "ipython3",
   "version": "3.8.10"
  }
 },
 "nbformat": 4,
 "nbformat_minor": 5
}
